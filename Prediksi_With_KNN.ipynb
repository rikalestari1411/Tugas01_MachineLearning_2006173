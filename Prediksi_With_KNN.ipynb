{
  "nbformat": 4,
  "nbformat_minor": 0,
  "metadata": {
    "colab": {
      "provenance": [],
      "authorship_tag": "ABX9TyMjjW6u2AxkUhWY2/LyRwLn",
      "include_colab_link": true
    },
    "kernelspec": {
      "name": "python3",
      "display_name": "Python 3"
    },
    "language_info": {
      "name": "python"
    }
  },
  "cells": [
    {
      "cell_type": "markdown",
      "metadata": {
        "id": "view-in-github",
        "colab_type": "text"
      },
      "source": [
        "<a href=\"https://colab.research.google.com/github/rikalestari1411/Tugas01_MachineLearning_2006173/blob/main/Prediksi_With_KNN.ipynb\" target=\"_parent\"><img src=\"https://colab.research.google.com/assets/colab-badge.svg\" alt=\"Open In Colab\"/></a>"
      ]
    },
    {
      "cell_type": "markdown",
      "source": [
        "Tugas 01 Machine Learning\n",
        "Nama : Rika Lestari\n",
        "NIM : 2006173"
      ],
      "metadata": {
        "id": "lfYbUI2JcQQE"
      }
    },
    {
      "cell_type": "code",
      "execution_count": 4,
      "metadata": {
        "id": "IheGIfH6b8HC"
      },
      "outputs": [],
      "source": [
        "# Memanggil pandas untuk manipulasi data \n",
        "import pandas as pd\n",
        "# Memanggil matplot untuk grafik\n",
        "import matplotlib.pyplot as plt\n",
        "from matplotlib.colors import ListedColormap\n",
        "# Memanggil library sklearn untuk import dataset\n",
        "from sklearn import datasets\n",
        "# Memanggil library sklearn untuk KNN Clasifier\n",
        "from sklearn.neighbors import KNeighborsClassifier\n"
      ]
    },
    {
      "cell_type": "code",
      "source": [
        "# Memanggil IRIS dataset dari obyek sklean \n",
        "# memasukkannya ke dalam variable bunga\n",
        "bunga = datasets.load_iris()\n",
        "\n",
        "# menampilkan tipe obyek dari bunga\n",
        "print(type(bunga))"
      ],
      "metadata": {
        "colab": {
          "base_uri": "https://localhost:8080/"
        },
        "id": "3S4MRVaocE8T",
        "outputId": "860f6981-a2c2-4fdb-9ce3-a1b5d8ad5679"
      },
      "execution_count": 5,
      "outputs": [
        {
          "output_type": "stream",
          "name": "stdout",
          "text": [
            "<class 'sklearn.utils._bunch.Bunch'>\n"
          ]
        }
      ]
    },
    {
      "cell_type": "code",
      "source": [
        "# menampilkan dictionary keys dari data bunga\n",
        "print(bunga.keys())"
      ],
      "metadata": {
        "colab": {
          "base_uri": "https://localhost:8080/"
        },
        "id": "Hzxbee_ycPbI",
        "outputId": "6ae10e3e-86b3-4345-c882-500ab8ca57b4"
      },
      "execution_count": 6,
      "outputs": [
        {
          "output_type": "stream",
          "name": "stdout",
          "text": [
            "dict_keys(['data', 'target', 'frame', 'target_names', 'DESCR', 'feature_names', 'filename', 'data_module'])\n"
          ]
        }
      ]
    },
    {
      "cell_type": "code",
      "source": [
        "# menampilkan tipe obyek dari atribut yang ada\n",
        "print(type(bunga.data), type(bunga.target))"
      ],
      "metadata": {
        "colab": {
          "base_uri": "https://localhost:8080/"
        },
        "id": "A78AnBO0cUZB",
        "outputId": "4a8dbf5e-bac7-4a8e-f9ce-fa740dd8b12e"
      },
      "execution_count": 7,
      "outputs": [
        {
          "output_type": "stream",
          "name": "stdout",
          "text": [
            "<class 'numpy.ndarray'> <class 'numpy.ndarray'>\n"
          ]
        }
      ]
    },
    {
      "cell_type": "code",
      "source": [
        "# menampilkan jumlah baris dan kolom dari dataset\n",
        "print(bunga.data.shape)"
      ],
      "metadata": {
        "id": "2graucCTcYMM",
        "colab": {
          "base_uri": "https://localhost:8080/"
        },
        "outputId": "a334a961-ea7e-4b54-c67e-4ba1932d3c6d"
      },
      "execution_count": 8,
      "outputs": [
        {
          "output_type": "stream",
          "name": "stdout",
          "text": [
            "(150, 4)\n"
          ]
        }
      ]
    },
    {
      "cell_type": "code",
      "source": [
        "# menampilkan target set dari data\n",
        "print(bunga.target_names)"
      ],
      "metadata": {
        "colab": {
          "base_uri": "https://localhost:8080/"
        },
        "id": "RPQbYztwzJl_",
        "outputId": "05e2af78-716c-4728-cd5e-7e7280df345a"
      },
      "execution_count": 9,
      "outputs": [
        {
          "output_type": "stream",
          "name": "stdout",
          "text": [
            "['setosa' 'versicolor' 'virginica']\n"
          ]
        }
      ]
    },
    {
      "cell_type": "code",
      "source": [
        "# memanggil training dataset\n",
        "X = bunga.data\n",
        "\n",
        "# memanggil target set\n",
        "Y = bunga.target\n",
        "\n",
        "# Melakukan konversi tipe datasets'ke dalam tipe dataframe\n",
        "df = pd.DataFrame(X, columns=bunga.feature_names)\n",
        "\n",
        "# Mencetak 5 data pertama dari dataframe\n",
        "print(df.head())"
      ],
      "metadata": {
        "colab": {
          "base_uri": "https://localhost:8080/"
        },
        "id": "mLCzXoHfyu8s",
        "outputId": "13f9a05f-7e8c-4b90-90a6-dcec3418981e"
      },
      "execution_count": 10,
      "outputs": [
        {
          "output_type": "stream",
          "name": "stdout",
          "text": [
            "   sepal length (cm)  sepal width (cm)  petal length (cm)  petal width (cm)\n",
            "0                5.1               3.5                1.4               0.2\n",
            "1                4.9               3.0                1.4               0.2\n",
            "2                4.7               3.2                1.3               0.2\n",
            "3                4.6               3.1                1.5               0.2\n",
            "4                5.0               3.6                1.4               0.2\n"
          ]
        }
      ]
    },
    {
      "cell_type": "code",
      "source": [
        "# Memanggil KNN classifier\n",
        "knn = KNeighborsClassifier(n_neighbors=6,\n",
        "                           weights='uniform',\n",
        "                           algorithm='auto', \n",
        "                           metric='euclidean')\n",
        "\n",
        "# Fitting model dengan training data and target\n",
        "X_train = bunga['data']\n",
        "y_train = bunga['target']\n",
        "knn.fit(X_train, y_train)"
      ],
      "metadata": {
        "colab": {
          "base_uri": "https://localhost:8080/",
          "height": 74
        },
        "id": "OTjWyPDVzRGB",
        "outputId": "8a4bd985-3a74-4395-aafe-308e71ee6887"
      },
      "execution_count": 11,
      "outputs": [
        {
          "output_type": "execute_result",
          "data": {
            "text/plain": [
              "KNeighborsClassifier(metric='euclidean', n_neighbors=6)"
            ],
            "text/html": [
              "<style>#sk-container-id-1 {color: black;background-color: white;}#sk-container-id-1 pre{padding: 0;}#sk-container-id-1 div.sk-toggleable {background-color: white;}#sk-container-id-1 label.sk-toggleable__label {cursor: pointer;display: block;width: 100%;margin-bottom: 0;padding: 0.3em;box-sizing: border-box;text-align: center;}#sk-container-id-1 label.sk-toggleable__label-arrow:before {content: \"▸\";float: left;margin-right: 0.25em;color: #696969;}#sk-container-id-1 label.sk-toggleable__label-arrow:hover:before {color: black;}#sk-container-id-1 div.sk-estimator:hover label.sk-toggleable__label-arrow:before {color: black;}#sk-container-id-1 div.sk-toggleable__content {max-height: 0;max-width: 0;overflow: hidden;text-align: left;background-color: #f0f8ff;}#sk-container-id-1 div.sk-toggleable__content pre {margin: 0.2em;color: black;border-radius: 0.25em;background-color: #f0f8ff;}#sk-container-id-1 input.sk-toggleable__control:checked~div.sk-toggleable__content {max-height: 200px;max-width: 100%;overflow: auto;}#sk-container-id-1 input.sk-toggleable__control:checked~label.sk-toggleable__label-arrow:before {content: \"▾\";}#sk-container-id-1 div.sk-estimator input.sk-toggleable__control:checked~label.sk-toggleable__label {background-color: #d4ebff;}#sk-container-id-1 div.sk-label input.sk-toggleable__control:checked~label.sk-toggleable__label {background-color: #d4ebff;}#sk-container-id-1 input.sk-hidden--visually {border: 0;clip: rect(1px 1px 1px 1px);clip: rect(1px, 1px, 1px, 1px);height: 1px;margin: -1px;overflow: hidden;padding: 0;position: absolute;width: 1px;}#sk-container-id-1 div.sk-estimator {font-family: monospace;background-color: #f0f8ff;border: 1px dotted black;border-radius: 0.25em;box-sizing: border-box;margin-bottom: 0.5em;}#sk-container-id-1 div.sk-estimator:hover {background-color: #d4ebff;}#sk-container-id-1 div.sk-parallel-item::after {content: \"\";width: 100%;border-bottom: 1px solid gray;flex-grow: 1;}#sk-container-id-1 div.sk-label:hover label.sk-toggleable__label {background-color: #d4ebff;}#sk-container-id-1 div.sk-serial::before {content: \"\";position: absolute;border-left: 1px solid gray;box-sizing: border-box;top: 0;bottom: 0;left: 50%;z-index: 0;}#sk-container-id-1 div.sk-serial {display: flex;flex-direction: column;align-items: center;background-color: white;padding-right: 0.2em;padding-left: 0.2em;position: relative;}#sk-container-id-1 div.sk-item {position: relative;z-index: 1;}#sk-container-id-1 div.sk-parallel {display: flex;align-items: stretch;justify-content: center;background-color: white;position: relative;}#sk-container-id-1 div.sk-item::before, #sk-container-id-1 div.sk-parallel-item::before {content: \"\";position: absolute;border-left: 1px solid gray;box-sizing: border-box;top: 0;bottom: 0;left: 50%;z-index: -1;}#sk-container-id-1 div.sk-parallel-item {display: flex;flex-direction: column;z-index: 1;position: relative;background-color: white;}#sk-container-id-1 div.sk-parallel-item:first-child::after {align-self: flex-end;width: 50%;}#sk-container-id-1 div.sk-parallel-item:last-child::after {align-self: flex-start;width: 50%;}#sk-container-id-1 div.sk-parallel-item:only-child::after {width: 0;}#sk-container-id-1 div.sk-dashed-wrapped {border: 1px dashed gray;margin: 0 0.4em 0.5em 0.4em;box-sizing: border-box;padding-bottom: 0.4em;background-color: white;}#sk-container-id-1 div.sk-label label {font-family: monospace;font-weight: bold;display: inline-block;line-height: 1.2em;}#sk-container-id-1 div.sk-label-container {text-align: center;}#sk-container-id-1 div.sk-container {/* jupyter's `normalize.less` sets `[hidden] { display: none; }` but bootstrap.min.css set `[hidden] { display: none !important; }` so we also need the `!important` here to be able to override the default hidden behavior on the sphinx rendered scikit-learn.org. See: https://github.com/scikit-learn/scikit-learn/issues/21755 */display: inline-block !important;position: relative;}#sk-container-id-1 div.sk-text-repr-fallback {display: none;}</style><div id=\"sk-container-id-1\" class=\"sk-top-container\"><div class=\"sk-text-repr-fallback\"><pre>KNeighborsClassifier(metric=&#x27;euclidean&#x27;, n_neighbors=6)</pre><b>In a Jupyter environment, please rerun this cell to show the HTML representation or trust the notebook. <br />On GitHub, the HTML representation is unable to render, please try loading this page with nbviewer.org.</b></div><div class=\"sk-container\" hidden><div class=\"sk-item\"><div class=\"sk-estimator sk-toggleable\"><input class=\"sk-toggleable__control sk-hidden--visually\" id=\"sk-estimator-id-1\" type=\"checkbox\" checked><label for=\"sk-estimator-id-1\" class=\"sk-toggleable__label sk-toggleable__label-arrow\">KNeighborsClassifier</label><div class=\"sk-toggleable__content\"><pre>KNeighborsClassifier(metric=&#x27;euclidean&#x27;, n_neighbors=6)</pre></div></div></div></div></div>"
            ]
          },
          "metadata": {},
          "execution_count": 11
        }
      ]
    },
    {
      "cell_type": "code",
      "source": [
        "# Data yang akan diprediksi\n",
        "Data = [[6.2, 1.5, 4.2, 2.6]]\n",
        "\n",
        "# Melakukan prediksi berdasarkan \n",
        "Y_pred = knn.predict(Data)\n",
        "\n",
        "# Mencetak hasil prediksi\n",
        "# Hasil 0 adalah Setosa\n",
        "# Hasil 1 adalah Versicolor\n",
        "# Hasil 2 adalah Virginica\n",
        "print(\"Hasil Prediksi : Jenis bunga \", Y_pred)"
      ],
      "metadata": {
        "colab": {
          "base_uri": "https://localhost:8080/"
        },
        "id": "ZHgdPaOIzU2Z",
        "outputId": "463cc1df-70c8-4be7-a66c-a5eb49be49fc"
      },
      "execution_count": 12,
      "outputs": [
        {
          "output_type": "stream",
          "name": "stdout",
          "text": [
            "Hasil Prediksi : Jenis bunga  [2]\n"
          ]
        }
      ]
    },
    {
      "cell_type": "code",
      "source": [
        "# Load iris dataset\n",
        "iris = datasets.load_iris()\n",
        "\n",
        "# Convert iris dataset to pandas dataframe\n",
        "df = pd.DataFrame(iris.data, columns=iris.feature_names)\n",
        "\n",
        "# Add target column to dataframe\n",
        "df['target'] = iris.target\n",
        "\n",
        "# Set colormap\n",
        "cmap = ListedColormap(['red', 'green', 'blue'])\n",
        "\n",
        "# Plot scatter plot\n",
        "plt.scatter(df['sepal length (cm)'], df['sepal width (cm)'], c=df['target'], cmap=cmap)\n",
        "\n",
        "# Add labels and title\n",
        "plt.xlabel('Sepal Length (cm)')\n",
        "plt.ylabel('Sepal Width (cm)')\n",
        "plt.title('Iris Dataset')\n",
        "\n",
        "# Show plot\n",
        "plt.show()\n"
      ],
      "metadata": {
        "colab": {
          "base_uri": "https://localhost:8080/",
          "height": 295
        },
        "id": "104E_53pQoWX",
        "outputId": "125ce39c-8f74-4957-8e08-aaddb5ae3157"
      },
      "execution_count": 13,
      "outputs": [
        {
          "output_type": "display_data",
          "data": {
            "text/plain": [
              "<Figure size 432x288 with 1 Axes>"
            ],
            "image/png": "[encoded data removed]"
          },
          "metadata": {
            "needs_background": "light"
          }
        }
      ]
    },
    {
      "cell_type": "code",
      "source": [
        "# Data yang akan diprediksi\n",
        "Data = [[6.2, 1.5, 4.2, 2.6],\n",
        "        [4.4, 1.2, 2.7, 7.5],\n",
        "        [6.4, 2.5, 4.7, 1.5]\n",
        "       ]\n",
        "Y_pred = knn.predict(Data)\n",
        "print(\"Hasil Prediksi : Jenis Bunga \", Y_pred)"
      ],
      "metadata": {
        "colab": {
          "base_uri": "https://localhost:8080/"
        },
        "id": "d8SRvY-xzZD6",
        "outputId": "776d8661-800b-4d9a-97a1-717996207c63"
      },
      "execution_count": 14,
      "outputs": [
        {
          "output_type": "stream",
          "name": "stdout",
          "text": [
            "Hasil Prediksi : Jenis Bunga  [2 2 1]\n"
          ]
        }
      ]
    },
    {
      "cell_type": "code",
      "source": [
        "# Buat scatter plot dari hasil prediksi\n",
        "plt.scatter([d[0] for d in Data if Y_pred[Data.index(d)] == 0], \n",
        "            [d[1] for d in Data if Y_pred[Data.index(d)] == 0], \n",
        "            color='red', label='Iris-setosa')\n",
        "plt.scatter([d[0] for d in Data if Y_pred[Data.index(d)] == 1], \n",
        "            [d[1] for d in Data if Y_pred[Data.index(d)] == 1], \n",
        "            color='blue', label='Iris-versicolor')\n",
        "plt.scatter([d[0] for d in Data if Y_pred[Data.index(d)] == 2], \n",
        "            [d[1] for d in Data if Y_pred[Data.index(d)] == 2], \n",
        "            color='green', label='Iris-virginica')\n",
        "\n",
        "# Atur label sumbu dan judul grafik\n",
        "plt.xlabel('Sepal length')\n",
        "plt.ylabel('Sepal width')\n",
        "plt.title('Prediksi Jenis Bunga Iris')\n",
        "\n",
        "# Tampilkan legenda\n",
        "plt.legend()\n",
        "\n",
        "# Tampilkan grafik\n",
        "plt.show()\n"
      ],
      "metadata": {
        "colab": {
          "base_uri": "https://localhost:8080/",
          "height": 295
        },
        "id": "LHV53zhA2G5M",
        "outputId": "4b63b4fb-9a69-4034-a3e7-98268af62454"
      },
      "execution_count": 15,
      "outputs": [
        {
          "output_type": "display_data",
          "data": {
            "text/plain": [
              "<Figure size 432x288 with 1 Axes>"
            ],
            "image/png": "[encoded data removed]"
          },
          "metadata": {
            "needs_background": "light"
          }
        }
      ]
    }
  ]
}